{
 "cells": [
  {
   "cell_type": "code",
   "execution_count": 1,
   "id": "a90876aa",
   "metadata": {},
   "outputs": [],
   "source": [
    "import numpy as np\n",
    "import plotly.graph_objs as go\n",
    "import ipywidgets as widgets\n",
    "from IPython.display import display, clear_output"
   ]
  },
  {
   "cell_type": "code",
   "execution_count": 2,
   "id": "28b19d6f",
   "metadata": {},
   "outputs": [],
   "source": [
    "# Grid and neighbor definition\n",
    "shape = (100, 100, 100)\n",
    "grid = np.zeros(shape, dtype=int)\n",
    "seeds = []\n",
    "\n",
    "# FCC-like 12-neighbor topology\n",
    "neighbor_offsets = np.array([\n",
    "    [ 1,  1,  0], [ 1, -1,  0], [-1,  1,  0], [-1, -1,  0],\n",
    "    [ 1,  0,  1], [ 1,  0, -1], [-1,  0,  1], [-1,  0, -1],\n",
    "    [ 0,  1,  1], [ 0,  1, -1], [ 0, -1,  1], [ 0, -1, -1]\n",
    "])"
   ]
  },
  {
   "cell_type": "code",
   "execution_count": 7,
   "id": "5cde9bc6",
   "metadata": {},
   "outputs": [],
   "source": [
    "def add_seed(x, y, z):\n",
    "    if 0 <= x < shape[0] and 0 <= y < shape[1] and 0 <= z < shape[2]:\n",
    "        grid[x, y, z] = 1\n",
    "        seeds.append((x, y, z))\n",
    "\n",
    "# ---------- UI widgets ----------\n",
    "n_crit_slider = widgets.IntSlider(value=3, min=1, max=12, description='Min Neighbors')\n",
    "n_max_slider = widgets.IntSlider(value=6, min=1, max=12, description='Max Neighbors')\n",
    "p_slider = widgets.FloatSlider(value=1.0, min=0.0, max=1.0, step=0.05, description='Growth Prob')\n",
    "\n",
    "active_size_slider = widgets.IntSlider(value=4, min=1, max=20, description='Active Size')\n",
    "suppressed_size_slider = widgets.IntSlider(value=10, min=1, max=20, description='Suppressed Size')\n",
    "suppressed_opacity_slider = widgets.FloatSlider(value=0.3, min=0.0, max=1.0, step=0.05, description='Suppressed Opacity')\n",
    "\n",
    "show_active_checkbox = widgets.Checkbox(value=True, description=\"Show Active Sites\")\n",
    "show_suppressed_checkbox = widgets.Checkbox(value=True, description=\"Show Suppressed Sites\")\n",
    "\n",
    "step_button = widgets.Button(description='Grow Step')\n",
    "reset_button = widgets.Button(description='Reset')\n",
    "combined_button = widgets.Button(description='Show All')\n",
    "export_button = widgets.Button(description='Export XYZ')\n",
    "\n",
    "run_output = widgets.Output()\n",
    "\n",
    "# ---------- XYZ Export ----------\n",
    "def export_xyz(grid, filename=\"exported_structure.xyz\"):\n",
    "    positions = np.argwhere(grid == 1)\n",
    "    with open(filename, \"w\") as f:\n",
    "        f.write(f\"{len(positions)}\\n\")\n",
    "        f.write(\"Atoms from cellular automaton model\\n\")\n",
    "        for x, y, z in positions:\n",
    "            f.write(f\"C {x:.3f} {y:.3f} {z:.3f}\\n\")\n",
    "    print(f\"XYZ file saved as: {filename}\")\n",
    "\n",
    "def export_xyz_callback(b):\n",
    "    export_xyz(grid)\n",
    "export_button.on_click(export_xyz_callback)\n",
    "\n",
    "# ---------- Growth Logic ----------\n",
    "def grow(grid, n_crit=3, n_max=6, p=1.0):\n",
    "    shape_x, shape_y, shape_z = grid.shape\n",
    "    active_mask = (grid == 1)\n",
    "\n",
    "    coord_count = np.zeros_like(grid, dtype=int)\n",
    "    for dx, dy, dz in neighbor_offsets:\n",
    "        coord_count += np.roll(active_mask, shift=(dx, dy, dz), axis=(0, 1, 2))\n",
    "\n",
    "    spreading_mask = (grid == 1) & (coord_count < n_max)\n",
    "    saturated_mask = (grid == 1) & (coord_count >= n_max)\n",
    "\n",
    "    neighbor_count = np.zeros_like(grid, dtype=int)\n",
    "    saturated_neighbors = np.zeros_like(grid, dtype=int)\n",
    "    for dx, dy, dz in neighbor_offsets:\n",
    "        neighbor_count += np.roll(spreading_mask, shift=(dx, dy, dz), axis=(0, 1, 2))\n",
    "        saturated_neighbors += np.roll(saturated_mask, shift=(dx, dy, dz), axis=(0, 1, 2))\n",
    "\n",
    "    candidate_sites = (grid == 0) & (neighbor_count >= n_crit) & (saturated_neighbors == 0)\n",
    "    xs, ys, zs = np.where(candidate_sites)\n",
    "\n",
    "    new_grid = grid.copy()\n",
    "    for idx in np.random.permutation(len(xs)):\n",
    "        x, y, z = xs[idx], ys[idx], zs[idx]\n",
    "        if np.random.rand() > p:\n",
    "            continue\n",
    "\n",
    "        new_self_coord = sum(\n",
    "            new_grid[x+dx, y+dy, z+dz] == 1\n",
    "            for dx, dy, dz in neighbor_offsets\n",
    "            if 0 <= x+dx < shape_x and 0 <= y+dy < shape_y and 0 <= z+dz < shape_z\n",
    "        )\n",
    "        if new_self_coord > n_max:\n",
    "            continue\n",
    "\n",
    "        violate = any(\n",
    "            new_grid[x+dx, y+dy, z+dz] == 1 and coord_count[x+dx, y+dy, z+dz] + 1 > n_max\n",
    "            for dx, dy, dz in neighbor_offsets\n",
    "            if 0 <= x+dx < shape_x and 0 <= y+dy < shape_y and 0 <= z+dz < shape_z\n",
    "        )\n",
    "        if violate:\n",
    "            continue\n",
    "\n",
    "        new_grid[x, y, z] = 1\n",
    "        for dx, dy, dz in neighbor_offsets:\n",
    "            nx, ny, nz = x+dx, y+dy, z+dz\n",
    "            if 0 <= nx < shape_x and 0 <= ny < shape_y and 0 <= nz < shape_z:\n",
    "                if new_grid[nx, ny, nz] == 1:\n",
    "                    coord_count[nx, ny, nz] += 1\n",
    "        coord_count[x, y, z] = new_self_coord\n",
    "\n",
    "    return new_grid\n",
    "\n",
    "# ---------- Suppressed Sites ----------\n",
    "def get_suppressed_sites(grid, n_crit=3, n_max=6):\n",
    "    active_mask = (grid == 1)\n",
    "    coord_count = np.zeros_like(grid, dtype=int)\n",
    "    for dx, dy, dz in neighbor_offsets:\n",
    "        coord_count += np.roll(active_mask, shift=(dx, dy, dz), axis=(0, 1, 2))\n",
    "\n",
    "    spreading_mask = (grid == 1) & (coord_count < n_max)\n",
    "    saturated_mask = (grid == 1) & (coord_count >= n_max)\n",
    "\n",
    "    neighbor_count = np.zeros_like(grid, dtype=int)\n",
    "    saturated_neighbors = np.zeros_like(grid, dtype=int)\n",
    "    for dx, dy, dz in neighbor_offsets:\n",
    "        neighbor_count += np.roll(spreading_mask, shift=(dx, dy, dz), axis=(0, 1, 2))\n",
    "        saturated_neighbors += np.roll(saturated_mask, shift=(dx, dy, dz), axis=(0, 1, 2))\n",
    "\n",
    "    suppressed_mask = (grid == 0) & (neighbor_count >= n_crit) & (saturated_neighbors > 0)\n",
    "    return suppressed_mask\n",
    "\n",
    "# ---------- Plotting ----------\n",
    "def plot_combined(grid, n_crit=3, n_max=6, show_active=True, show_suppressed=True):\n",
    "    traces = []\n",
    "    if show_active:\n",
    "        active_mask = (grid == 1)\n",
    "        coord_count = np.zeros_like(grid, dtype=int)\n",
    "        for dx, dy, dz in neighbor_offsets:\n",
    "            coord_count += np.roll(active_mask, shift=(dx, dy, dz), axis=(0, 1, 2))\n",
    "\n",
    "        pos_active = np.argwhere(grid == 1)\n",
    "        colors = coord_count[grid == 1]\n",
    "        hover_text = [f\"({x},{y},{z})<br>Coord: {c}\" for (x, y, z), c in zip(pos_active, colors)]\n",
    "\n",
    "        traces.append(go.Scatter3d(\n",
    "            x=pos_active[:, 0], y=pos_active[:, 1], z=pos_active[:, 2],\n",
    "            mode='markers',\n",
    "            text=hover_text, hoverinfo='text',\n",
    "            marker=dict(size=active_size_slider.value, color=colors,\n",
    "                        colorscale='YlGnBu', cmin=0, cmax=12,\n",
    "                        colorbar=dict(title='Coord.')),\n",
    "            name='Active'\n",
    "        ))\n",
    "\n",
    "    if show_suppressed:\n",
    "        pos_sup = np.argwhere(get_suppressed_sites(grid, n_crit, n_max))\n",
    "        traces.append(go.Scatter3d(\n",
    "            x=pos_sup[:, 0], y=pos_sup[:, 1], z=pos_sup[:, 2],\n",
    "            mode='markers',\n",
    "            marker=dict(size=suppressed_size_slider.value, color='red',\n",
    "                        opacity=suppressed_opacity_slider.value),\n",
    "            name='Suppressed'\n",
    "        ))\n",
    "\n",
    "    fig = go.Figure(data=traces)\n",
    "    fig.update_layout(\n",
    "        width=800, height=700,\n",
    "        title='Growth Visualization',\n",
    "        scene=dict(aspectmode='cube',\n",
    "                   camera=dict(projection=dict(type='orthographic')))\n",
    "    )\n",
    "    fig.show()\n",
    "\n",
    "# ---------- Callbacks ----------\n",
    "def grow_step(b):\n",
    "    global grid\n",
    "    grid = grow(grid, n_crit_slider.value, n_max_slider.value, p_slider.value)\n",
    "    with run_output:\n",
    "        clear_output(wait=True)\n",
    "        plot_combined(grid, n_crit_slider.value, n_max_slider.value,\n",
    "                      show_active_checkbox.value, show_suppressed_checkbox.value)\n",
    "\n",
    "def reset_grid(b):\n",
    "    global grid, seeds\n",
    "    grid[:] = 0\n",
    "    seeds.clear()\n",
    "    seed_custom()\n",
    "    with run_output:\n",
    "        clear_output(wait=True)\n",
    "        plot_combined(grid, n_crit_slider.value, n_max_slider.value,\n",
    "                      show_active_checkbox.value, show_suppressed_checkbox.value)\n",
    "\n",
    "def show_combined(b):\n",
    "    with run_output:\n",
    "        clear_output(wait=True)\n",
    "        plot_combined(grid, n_crit_slider.value, n_max_slider.value,\n",
    "                      show_active_checkbox.value, show_suppressed_checkbox.value)\n",
    "\n",
    "# ---------- Seeds ----------\n",
    "def seed_custom():\n",
    "    add_seed(shape[0]//2, shape[1]//2, shape[2]//2)\n",
    "    add_seed(shape[0]//2+1, shape[1]//2+1, shape[2]//2)\n",
    "    add_seed(shape[0]//2+1, shape[1]//2, shape[2]//2+1)\n",
    "\n",
    "    \n",
    "step_button.on_click(grow_step)\n",
    "reset_button.on_click(reset_grid)\n",
    "combined_button.on_click(show_combined)\n",
    "\n",
    "seed_custom()"
   ]
  },
  {
   "cell_type": "code",
   "execution_count": 8,
   "id": "9b77c10a",
   "metadata": {},
   "outputs": [
    {
     "data": {
      "application/vnd.jupyter.widget-view+json": {
       "model_id": "377af3ddd6574e738d58ebd1fcd94e33",
       "version_major": 2,
       "version_minor": 0
      },
      "text/plain": [
       "HBox(children=(IntSlider(value=3, description='Min Neighbors', max=12, min=1), IntSlider(value=6, description=…"
      ]
     },
     "metadata": {},
     "output_type": "display_data"
    },
    {
     "data": {
      "application/vnd.jupyter.widget-view+json": {
       "model_id": "d7e39f5711a342f7805cd460dee9aa7b",
       "version_major": 2,
       "version_minor": 0
      },
      "text/plain": [
       "HBox(children=(IntSlider(value=4, description='Active Size', max=20, min=1), IntSlider(value=10, description='…"
      ]
     },
     "metadata": {},
     "output_type": "display_data"
    },
    {
     "data": {
      "application/vnd.jupyter.widget-view+json": {
       "model_id": "0d21af353e174b44ac33eac42a4bae04",
       "version_major": 2,
       "version_minor": 0
      },
      "text/plain": [
       "HBox(children=(Checkbox(value=True, description='Show Active Sites'), Checkbox(value=True, description='Show S…"
      ]
     },
     "metadata": {},
     "output_type": "display_data"
    },
    {
     "data": {
      "application/vnd.jupyter.widget-view+json": {
       "model_id": "91b6974190214a76965f81b13aa177b5",
       "version_major": 2,
       "version_minor": 0
      },
      "text/plain": [
       "HBox(children=(Button(description='Grow Step', style=ButtonStyle()), Button(description='Reset', style=ButtonS…"
      ]
     },
     "metadata": {},
     "output_type": "display_data"
    },
    {
     "data": {
      "application/vnd.jupyter.widget-view+json": {
       "model_id": "8b2db0f2782241128be2bc3e487dd717",
       "version_major": 2,
       "version_minor": 0
      },
      "text/plain": [
       "Output()"
      ]
     },
     "metadata": {},
     "output_type": "display_data"
    },
    {
     "data": {
      "application/vnd.plotly.v1+json": {
       "config": {
        "plotlyServerURL": "https://plot.ly"
       },
       "data": [
        {
         "hoverinfo": "text",
         "marker": {
          "cmax": 12,
          "cmin": 0,
          "color": [
           2,
           2,
           2
          ],
          "colorbar": {
           "title": {
            "text": "Coord."
           }
          },
          "colorscale": [
           [
            0,
            "rgb(255,255,217)"
           ],
           [
            0.125,
            "rgb(237,248,177)"
           ],
           [
            0.25,
            "rgb(199,233,180)"
           ],
           [
            0.375,
            "rgb(127,205,187)"
           ],
           [
            0.5,
            "rgb(65,182,196)"
           ],
           [
            0.625,
            "rgb(29,145,192)"
           ],
           [
            0.75,
            "rgb(34,94,168)"
           ],
           [
            0.875,
            "rgb(37,52,148)"
           ],
           [
            1,
            "rgb(8,29,88)"
           ]
          ],
          "size": 4
         },
         "mode": "markers",
         "name": "Active",
         "text": [
          "(50,50,50)<br>Coord: 2",
          "(51,50,51)<br>Coord: 2",
          "(51,51,50)<br>Coord: 2"
         ],
         "type": "scatter3d",
         "x": [
          50,
          51,
          51
         ],
         "y": [
          50,
          50,
          51
         ],
         "z": [
          50,
          51,
          50
         ]
        },
        {
         "marker": {
          "color": "red",
          "opacity": 0.3,
          "size": 10
         },
         "mode": "markers",
         "name": "Suppressed",
         "type": "scatter3d",
         "x": [],
         "y": [],
         "z": []
        }
       ],
       "layout": {
        "height": 700,
        "scene": {
         "aspectmode": "cube",
         "camera": {
          "projection": {
           "type": "orthographic"
          }
         }
        },
        "template": {
         "data": {
          "bar": [
           {
            "error_x": {
             "color": "#2a3f5f"
            },
            "error_y": {
             "color": "#2a3f5f"
            },
            "marker": {
             "line": {
              "color": "#E5ECF6",
              "width": 0.5
             },
             "pattern": {
              "fillmode": "overlay",
              "size": 10,
              "solidity": 0.2
             }
            },
            "type": "bar"
           }
          ],
          "barpolar": [
           {
            "marker": {
             "line": {
              "color": "#E5ECF6",
              "width": 0.5
             },
             "pattern": {
              "fillmode": "overlay",
              "size": 10,
              "solidity": 0.2
             }
            },
            "type": "barpolar"
           }
          ],
          "carpet": [
           {
            "aaxis": {
             "endlinecolor": "#2a3f5f",
             "gridcolor": "white",
             "linecolor": "white",
             "minorgridcolor": "white",
             "startlinecolor": "#2a3f5f"
            },
            "baxis": {
             "endlinecolor": "#2a3f5f",
             "gridcolor": "white",
             "linecolor": "white",
             "minorgridcolor": "white",
             "startlinecolor": "#2a3f5f"
            },
            "type": "carpet"
           }
          ],
          "choropleth": [
           {
            "colorbar": {
             "outlinewidth": 0,
             "ticks": ""
            },
            "type": "choropleth"
           }
          ],
          "contour": [
           {
            "colorbar": {
             "outlinewidth": 0,
             "ticks": ""
            },
            "colorscale": [
             [
              0,
              "#0d0887"
             ],
             [
              0.1111111111111111,
              "#46039f"
             ],
             [
              0.2222222222222222,
              "#7201a8"
             ],
             [
              0.3333333333333333,
              "#9c179e"
             ],
             [
              0.4444444444444444,
              "#bd3786"
             ],
             [
              0.5555555555555556,
              "#d8576b"
             ],
             [
              0.6666666666666666,
              "#ed7953"
             ],
             [
              0.7777777777777778,
              "#fb9f3a"
             ],
             [
              0.8888888888888888,
              "#fdca26"
             ],
             [
              1,
              "#f0f921"
             ]
            ],
            "type": "contour"
           }
          ],
          "contourcarpet": [
           {
            "colorbar": {
             "outlinewidth": 0,
             "ticks": ""
            },
            "type": "contourcarpet"
           }
          ],
          "heatmap": [
           {
            "colorbar": {
             "outlinewidth": 0,
             "ticks": ""
            },
            "colorscale": [
             [
              0,
              "#0d0887"
             ],
             [
              0.1111111111111111,
              "#46039f"
             ],
             [
              0.2222222222222222,
              "#7201a8"
             ],
             [
              0.3333333333333333,
              "#9c179e"
             ],
             [
              0.4444444444444444,
              "#bd3786"
             ],
             [
              0.5555555555555556,
              "#d8576b"
             ],
             [
              0.6666666666666666,
              "#ed7953"
             ],
             [
              0.7777777777777778,
              "#fb9f3a"
             ],
             [
              0.8888888888888888,
              "#fdca26"
             ],
             [
              1,
              "#f0f921"
             ]
            ],
            "type": "heatmap"
           }
          ],
          "heatmapgl": [
           {
            "colorbar": {
             "outlinewidth": 0,
             "ticks": ""
            },
            "colorscale": [
             [
              0,
              "#0d0887"
             ],
             [
              0.1111111111111111,
              "#46039f"
             ],
             [
              0.2222222222222222,
              "#7201a8"
             ],
             [
              0.3333333333333333,
              "#9c179e"
             ],
             [
              0.4444444444444444,
              "#bd3786"
             ],
             [
              0.5555555555555556,
              "#d8576b"
             ],
             [
              0.6666666666666666,
              "#ed7953"
             ],
             [
              0.7777777777777778,
              "#fb9f3a"
             ],
             [
              0.8888888888888888,
              "#fdca26"
             ],
             [
              1,
              "#f0f921"
             ]
            ],
            "type": "heatmapgl"
           }
          ],
          "histogram": [
           {
            "marker": {
             "pattern": {
              "fillmode": "overlay",
              "size": 10,
              "solidity": 0.2
             }
            },
            "type": "histogram"
           }
          ],
          "histogram2d": [
           {
            "colorbar": {
             "outlinewidth": 0,
             "ticks": ""
            },
            "colorscale": [
             [
              0,
              "#0d0887"
             ],
             [
              0.1111111111111111,
              "#46039f"
             ],
             [
              0.2222222222222222,
              "#7201a8"
             ],
             [
              0.3333333333333333,
              "#9c179e"
             ],
             [
              0.4444444444444444,
              "#bd3786"
             ],
             [
              0.5555555555555556,
              "#d8576b"
             ],
             [
              0.6666666666666666,
              "#ed7953"
             ],
             [
              0.7777777777777778,
              "#fb9f3a"
             ],
             [
              0.8888888888888888,
              "#fdca26"
             ],
             [
              1,
              "#f0f921"
             ]
            ],
            "type": "histogram2d"
           }
          ],
          "histogram2dcontour": [
           {
            "colorbar": {
             "outlinewidth": 0,
             "ticks": ""
            },
            "colorscale": [
             [
              0,
              "#0d0887"
             ],
             [
              0.1111111111111111,
              "#46039f"
             ],
             [
              0.2222222222222222,
              "#7201a8"
             ],
             [
              0.3333333333333333,
              "#9c179e"
             ],
             [
              0.4444444444444444,
              "#bd3786"
             ],
             [
              0.5555555555555556,
              "#d8576b"
             ],
             [
              0.6666666666666666,
              "#ed7953"
             ],
             [
              0.7777777777777778,
              "#fb9f3a"
             ],
             [
              0.8888888888888888,
              "#fdca26"
             ],
             [
              1,
              "#f0f921"
             ]
            ],
            "type": "histogram2dcontour"
           }
          ],
          "mesh3d": [
           {
            "colorbar": {
             "outlinewidth": 0,
             "ticks": ""
            },
            "type": "mesh3d"
           }
          ],
          "parcoords": [
           {
            "line": {
             "colorbar": {
              "outlinewidth": 0,
              "ticks": ""
             }
            },
            "type": "parcoords"
           }
          ],
          "pie": [
           {
            "automargin": true,
            "type": "pie"
           }
          ],
          "scatter": [
           {
            "marker": {
             "colorbar": {
              "outlinewidth": 0,
              "ticks": ""
             }
            },
            "type": "scatter"
           }
          ],
          "scatter3d": [
           {
            "line": {
             "colorbar": {
              "outlinewidth": 0,
              "ticks": ""
             }
            },
            "marker": {
             "colorbar": {
              "outlinewidth": 0,
              "ticks": ""
             }
            },
            "type": "scatter3d"
           }
          ],
          "scattercarpet": [
           {
            "marker": {
             "colorbar": {
              "outlinewidth": 0,
              "ticks": ""
             }
            },
            "type": "scattercarpet"
           }
          ],
          "scattergeo": [
           {
            "marker": {
             "colorbar": {
              "outlinewidth": 0,
              "ticks": ""
             }
            },
            "type": "scattergeo"
           }
          ],
          "scattergl": [
           {
            "marker": {
             "colorbar": {
              "outlinewidth": 0,
              "ticks": ""
             }
            },
            "type": "scattergl"
           }
          ],
          "scattermapbox": [
           {
            "marker": {
             "colorbar": {
              "outlinewidth": 0,
              "ticks": ""
             }
            },
            "type": "scattermapbox"
           }
          ],
          "scatterpolar": [
           {
            "marker": {
             "colorbar": {
              "outlinewidth": 0,
              "ticks": ""
             }
            },
            "type": "scatterpolar"
           }
          ],
          "scatterpolargl": [
           {
            "marker": {
             "colorbar": {
              "outlinewidth": 0,
              "ticks": ""
             }
            },
            "type": "scatterpolargl"
           }
          ],
          "scatterternary": [
           {
            "marker": {
             "colorbar": {
              "outlinewidth": 0,
              "ticks": ""
             }
            },
            "type": "scatterternary"
           }
          ],
          "surface": [
           {
            "colorbar": {
             "outlinewidth": 0,
             "ticks": ""
            },
            "colorscale": [
             [
              0,
              "#0d0887"
             ],
             [
              0.1111111111111111,
              "#46039f"
             ],
             [
              0.2222222222222222,
              "#7201a8"
             ],
             [
              0.3333333333333333,
              "#9c179e"
             ],
             [
              0.4444444444444444,
              "#bd3786"
             ],
             [
              0.5555555555555556,
              "#d8576b"
             ],
             [
              0.6666666666666666,
              "#ed7953"
             ],
             [
              0.7777777777777778,
              "#fb9f3a"
             ],
             [
              0.8888888888888888,
              "#fdca26"
             ],
             [
              1,
              "#f0f921"
             ]
            ],
            "type": "surface"
           }
          ],
          "table": [
           {
            "cells": {
             "fill": {
              "color": "#EBF0F8"
             },
             "line": {
              "color": "white"
             }
            },
            "header": {
             "fill": {
              "color": "#C8D4E3"
             },
             "line": {
              "color": "white"
             }
            },
            "type": "table"
           }
          ]
         },
         "layout": {
          "annotationdefaults": {
           "arrowcolor": "#2a3f5f",
           "arrowhead": 0,
           "arrowwidth": 1
          },
          "autotypenumbers": "strict",
          "coloraxis": {
           "colorbar": {
            "outlinewidth": 0,
            "ticks": ""
           }
          },
          "colorscale": {
           "diverging": [
            [
             0,
             "#8e0152"
            ],
            [
             0.1,
             "#c51b7d"
            ],
            [
             0.2,
             "#de77ae"
            ],
            [
             0.3,
             "#f1b6da"
            ],
            [
             0.4,
             "#fde0ef"
            ],
            [
             0.5,
             "#f7f7f7"
            ],
            [
             0.6,
             "#e6f5d0"
            ],
            [
             0.7,
             "#b8e186"
            ],
            [
             0.8,
             "#7fbc41"
            ],
            [
             0.9,
             "#4d9221"
            ],
            [
             1,
             "#276419"
            ]
           ],
           "sequential": [
            [
             0,
             "#0d0887"
            ],
            [
             0.1111111111111111,
             "#46039f"
            ],
            [
             0.2222222222222222,
             "#7201a8"
            ],
            [
             0.3333333333333333,
             "#9c179e"
            ],
            [
             0.4444444444444444,
             "#bd3786"
            ],
            [
             0.5555555555555556,
             "#d8576b"
            ],
            [
             0.6666666666666666,
             "#ed7953"
            ],
            [
             0.7777777777777778,
             "#fb9f3a"
            ],
            [
             0.8888888888888888,
             "#fdca26"
            ],
            [
             1,
             "#f0f921"
            ]
           ],
           "sequentialminus": [
            [
             0,
             "#0d0887"
            ],
            [
             0.1111111111111111,
             "#46039f"
            ],
            [
             0.2222222222222222,
             "#7201a8"
            ],
            [
             0.3333333333333333,
             "#9c179e"
            ],
            [
             0.4444444444444444,
             "#bd3786"
            ],
            [
             0.5555555555555556,
             "#d8576b"
            ],
            [
             0.6666666666666666,
             "#ed7953"
            ],
            [
             0.7777777777777778,
             "#fb9f3a"
            ],
            [
             0.8888888888888888,
             "#fdca26"
            ],
            [
             1,
             "#f0f921"
            ]
           ]
          },
          "colorway": [
           "#636efa",
           "#EF553B",
           "#00cc96",
           "#ab63fa",
           "#FFA15A",
           "#19d3f3",
           "#FF6692",
           "#B6E880",
           "#FF97FF",
           "#FECB52"
          ],
          "font": {
           "color": "#2a3f5f"
          },
          "geo": {
           "bgcolor": "white",
           "lakecolor": "white",
           "landcolor": "#E5ECF6",
           "showlakes": true,
           "showland": true,
           "subunitcolor": "white"
          },
          "hoverlabel": {
           "align": "left"
          },
          "hovermode": "closest",
          "mapbox": {
           "style": "light"
          },
          "paper_bgcolor": "white",
          "plot_bgcolor": "#E5ECF6",
          "polar": {
           "angularaxis": {
            "gridcolor": "white",
            "linecolor": "white",
            "ticks": ""
           },
           "bgcolor": "#E5ECF6",
           "radialaxis": {
            "gridcolor": "white",
            "linecolor": "white",
            "ticks": ""
           }
          },
          "scene": {
           "xaxis": {
            "backgroundcolor": "#E5ECF6",
            "gridcolor": "white",
            "gridwidth": 2,
            "linecolor": "white",
            "showbackground": true,
            "ticks": "",
            "zerolinecolor": "white"
           },
           "yaxis": {
            "backgroundcolor": "#E5ECF6",
            "gridcolor": "white",
            "gridwidth": 2,
            "linecolor": "white",
            "showbackground": true,
            "ticks": "",
            "zerolinecolor": "white"
           },
           "zaxis": {
            "backgroundcolor": "#E5ECF6",
            "gridcolor": "white",
            "gridwidth": 2,
            "linecolor": "white",
            "showbackground": true,
            "ticks": "",
            "zerolinecolor": "white"
           }
          },
          "shapedefaults": {
           "line": {
            "color": "#2a3f5f"
           }
          },
          "ternary": {
           "aaxis": {
            "gridcolor": "white",
            "linecolor": "white",
            "ticks": ""
           },
           "baxis": {
            "gridcolor": "white",
            "linecolor": "white",
            "ticks": ""
           },
           "bgcolor": "#E5ECF6",
           "caxis": {
            "gridcolor": "white",
            "linecolor": "white",
            "ticks": ""
           }
          },
          "title": {
           "x": 0.05
          },
          "xaxis": {
           "automargin": true,
           "gridcolor": "white",
           "linecolor": "white",
           "ticks": "",
           "title": {
            "standoff": 15
           },
           "zerolinecolor": "white",
           "zerolinewidth": 2
          },
          "yaxis": {
           "automargin": true,
           "gridcolor": "white",
           "linecolor": "white",
           "ticks": "",
           "title": {
            "standoff": 15
           },
           "zerolinecolor": "white",
           "zerolinewidth": 2
          }
         }
        },
        "title": {
         "text": "Growth Visualization"
        },
        "width": 800
       }
      },
      "text/html": [
       "<div>                            <div id=\"e386b5b4-ec13-453a-98c2-afa436f8ea30\" class=\"plotly-graph-div\" style=\"height:700px; width:800px;\"></div>            <script type=\"text/javascript\">                require([\"plotly\"], function(Plotly) {                    window.PLOTLYENV=window.PLOTLYENV || {};                                    if (document.getElementById(\"e386b5b4-ec13-453a-98c2-afa436f8ea30\")) {                    Plotly.newPlot(                        \"e386b5b4-ec13-453a-98c2-afa436f8ea30\",                        [{\"hoverinfo\":\"text\",\"marker\":{\"cmax\":12,\"cmin\":0,\"color\":[2,2,2],\"colorbar\":{\"title\":{\"text\":\"Coord.\"}},\"colorscale\":[[0.0,\"rgb(255,255,217)\"],[0.125,\"rgb(237,248,177)\"],[0.25,\"rgb(199,233,180)\"],[0.375,\"rgb(127,205,187)\"],[0.5,\"rgb(65,182,196)\"],[0.625,\"rgb(29,145,192)\"],[0.75,\"rgb(34,94,168)\"],[0.875,\"rgb(37,52,148)\"],[1.0,\"rgb(8,29,88)\"]],\"size\":4},\"mode\":\"markers\",\"name\":\"Active\",\"text\":[\"(50,50,50)<br>Coord: 2\",\"(51,50,51)<br>Coord: 2\",\"(51,51,50)<br>Coord: 2\"],\"x\":[50,51,51],\"y\":[50,50,51],\"z\":[50,51,50],\"type\":\"scatter3d\"},{\"marker\":{\"color\":\"red\",\"opacity\":0.3,\"size\":10},\"mode\":\"markers\",\"name\":\"Suppressed\",\"x\":[],\"y\":[],\"z\":[],\"type\":\"scatter3d\"}],                        {\"template\":{\"data\":{\"bar\":[{\"error_x\":{\"color\":\"#2a3f5f\"},\"error_y\":{\"color\":\"#2a3f5f\"},\"marker\":{\"line\":{\"color\":\"#E5ECF6\",\"width\":0.5},\"pattern\":{\"fillmode\":\"overlay\",\"size\":10,\"solidity\":0.2}},\"type\":\"bar\"}],\"barpolar\":[{\"marker\":{\"line\":{\"color\":\"#E5ECF6\",\"width\":0.5},\"pattern\":{\"fillmode\":\"overlay\",\"size\":10,\"solidity\":0.2}},\"type\":\"barpolar\"}],\"carpet\":[{\"aaxis\":{\"endlinecolor\":\"#2a3f5f\",\"gridcolor\":\"white\",\"linecolor\":\"white\",\"minorgridcolor\":\"white\",\"startlinecolor\":\"#2a3f5f\"},\"baxis\":{\"endlinecolor\":\"#2a3f5f\",\"gridcolor\":\"white\",\"linecolor\":\"white\",\"minorgridcolor\":\"white\",\"startlinecolor\":\"#2a3f5f\"},\"type\":\"carpet\"}],\"choropleth\":[{\"colorbar\":{\"outlinewidth\":0,\"ticks\":\"\"},\"type\":\"choropleth\"}],\"contour\":[{\"colorbar\":{\"outlinewidth\":0,\"ticks\":\"\"},\"colorscale\":[[0.0,\"#0d0887\"],[0.1111111111111111,\"#46039f\"],[0.2222222222222222,\"#7201a8\"],[0.3333333333333333,\"#9c179e\"],[0.4444444444444444,\"#bd3786\"],[0.5555555555555556,\"#d8576b\"],[0.6666666666666666,\"#ed7953\"],[0.7777777777777778,\"#fb9f3a\"],[0.8888888888888888,\"#fdca26\"],[1.0,\"#f0f921\"]],\"type\":\"contour\"}],\"contourcarpet\":[{\"colorbar\":{\"outlinewidth\":0,\"ticks\":\"\"},\"type\":\"contourcarpet\"}],\"heatmap\":[{\"colorbar\":{\"outlinewidth\":0,\"ticks\":\"\"},\"colorscale\":[[0.0,\"#0d0887\"],[0.1111111111111111,\"#46039f\"],[0.2222222222222222,\"#7201a8\"],[0.3333333333333333,\"#9c179e\"],[0.4444444444444444,\"#bd3786\"],[0.5555555555555556,\"#d8576b\"],[0.6666666666666666,\"#ed7953\"],[0.7777777777777778,\"#fb9f3a\"],[0.8888888888888888,\"#fdca26\"],[1.0,\"#f0f921\"]],\"type\":\"heatmap\"}],\"heatmapgl\":[{\"colorbar\":{\"outlinewidth\":0,\"ticks\":\"\"},\"colorscale\":[[0.0,\"#0d0887\"],[0.1111111111111111,\"#46039f\"],[0.2222222222222222,\"#7201a8\"],[0.3333333333333333,\"#9c179e\"],[0.4444444444444444,\"#bd3786\"],[0.5555555555555556,\"#d8576b\"],[0.6666666666666666,\"#ed7953\"],[0.7777777777777778,\"#fb9f3a\"],[0.8888888888888888,\"#fdca26\"],[1.0,\"#f0f921\"]],\"type\":\"heatmapgl\"}],\"histogram\":[{\"marker\":{\"pattern\":{\"fillmode\":\"overlay\",\"size\":10,\"solidity\":0.2}},\"type\":\"histogram\"}],\"histogram2d\":[{\"colorbar\":{\"outlinewidth\":0,\"ticks\":\"\"},\"colorscale\":[[0.0,\"#0d0887\"],[0.1111111111111111,\"#46039f\"],[0.2222222222222222,\"#7201a8\"],[0.3333333333333333,\"#9c179e\"],[0.4444444444444444,\"#bd3786\"],[0.5555555555555556,\"#d8576b\"],[0.6666666666666666,\"#ed7953\"],[0.7777777777777778,\"#fb9f3a\"],[0.8888888888888888,\"#fdca26\"],[1.0,\"#f0f921\"]],\"type\":\"histogram2d\"}],\"histogram2dcontour\":[{\"colorbar\":{\"outlinewidth\":0,\"ticks\":\"\"},\"colorscale\":[[0.0,\"#0d0887\"],[0.1111111111111111,\"#46039f\"],[0.2222222222222222,\"#7201a8\"],[0.3333333333333333,\"#9c179e\"],[0.4444444444444444,\"#bd3786\"],[0.5555555555555556,\"#d8576b\"],[0.6666666666666666,\"#ed7953\"],[0.7777777777777778,\"#fb9f3a\"],[0.8888888888888888,\"#fdca26\"],[1.0,\"#f0f921\"]],\"type\":\"histogram2dcontour\"}],\"mesh3d\":[{\"colorbar\":{\"outlinewidth\":0,\"ticks\":\"\"},\"type\":\"mesh3d\"}],\"parcoords\":[{\"line\":{\"colorbar\":{\"outlinewidth\":0,\"ticks\":\"\"}},\"type\":\"parcoords\"}],\"pie\":[{\"automargin\":true,\"type\":\"pie\"}],\"scatter\":[{\"marker\":{\"colorbar\":{\"outlinewidth\":0,\"ticks\":\"\"}},\"type\":\"scatter\"}],\"scatter3d\":[{\"line\":{\"colorbar\":{\"outlinewidth\":0,\"ticks\":\"\"}},\"marker\":{\"colorbar\":{\"outlinewidth\":0,\"ticks\":\"\"}},\"type\":\"scatter3d\"}],\"scattercarpet\":[{\"marker\":{\"colorbar\":{\"outlinewidth\":0,\"ticks\":\"\"}},\"type\":\"scattercarpet\"}],\"scattergeo\":[{\"marker\":{\"colorbar\":{\"outlinewidth\":0,\"ticks\":\"\"}},\"type\":\"scattergeo\"}],\"scattergl\":[{\"marker\":{\"colorbar\":{\"outlinewidth\":0,\"ticks\":\"\"}},\"type\":\"scattergl\"}],\"scattermapbox\":[{\"marker\":{\"colorbar\":{\"outlinewidth\":0,\"ticks\":\"\"}},\"type\":\"scattermapbox\"}],\"scatterpolar\":[{\"marker\":{\"colorbar\":{\"outlinewidth\":0,\"ticks\":\"\"}},\"type\":\"scatterpolar\"}],\"scatterpolargl\":[{\"marker\":{\"colorbar\":{\"outlinewidth\":0,\"ticks\":\"\"}},\"type\":\"scatterpolargl\"}],\"scatterternary\":[{\"marker\":{\"colorbar\":{\"outlinewidth\":0,\"ticks\":\"\"}},\"type\":\"scatterternary\"}],\"surface\":[{\"colorbar\":{\"outlinewidth\":0,\"ticks\":\"\"},\"colorscale\":[[0.0,\"#0d0887\"],[0.1111111111111111,\"#46039f\"],[0.2222222222222222,\"#7201a8\"],[0.3333333333333333,\"#9c179e\"],[0.4444444444444444,\"#bd3786\"],[0.5555555555555556,\"#d8576b\"],[0.6666666666666666,\"#ed7953\"],[0.7777777777777778,\"#fb9f3a\"],[0.8888888888888888,\"#fdca26\"],[1.0,\"#f0f921\"]],\"type\":\"surface\"}],\"table\":[{\"cells\":{\"fill\":{\"color\":\"#EBF0F8\"},\"line\":{\"color\":\"white\"}},\"header\":{\"fill\":{\"color\":\"#C8D4E3\"},\"line\":{\"color\":\"white\"}},\"type\":\"table\"}]},\"layout\":{\"annotationdefaults\":{\"arrowcolor\":\"#2a3f5f\",\"arrowhead\":0,\"arrowwidth\":1},\"autotypenumbers\":\"strict\",\"coloraxis\":{\"colorbar\":{\"outlinewidth\":0,\"ticks\":\"\"}},\"colorscale\":{\"diverging\":[[0,\"#8e0152\"],[0.1,\"#c51b7d\"],[0.2,\"#de77ae\"],[0.3,\"#f1b6da\"],[0.4,\"#fde0ef\"],[0.5,\"#f7f7f7\"],[0.6,\"#e6f5d0\"],[0.7,\"#b8e186\"],[0.8,\"#7fbc41\"],[0.9,\"#4d9221\"],[1,\"#276419\"]],\"sequential\":[[0.0,\"#0d0887\"],[0.1111111111111111,\"#46039f\"],[0.2222222222222222,\"#7201a8\"],[0.3333333333333333,\"#9c179e\"],[0.4444444444444444,\"#bd3786\"],[0.5555555555555556,\"#d8576b\"],[0.6666666666666666,\"#ed7953\"],[0.7777777777777778,\"#fb9f3a\"],[0.8888888888888888,\"#fdca26\"],[1.0,\"#f0f921\"]],\"sequentialminus\":[[0.0,\"#0d0887\"],[0.1111111111111111,\"#46039f\"],[0.2222222222222222,\"#7201a8\"],[0.3333333333333333,\"#9c179e\"],[0.4444444444444444,\"#bd3786\"],[0.5555555555555556,\"#d8576b\"],[0.6666666666666666,\"#ed7953\"],[0.7777777777777778,\"#fb9f3a\"],[0.8888888888888888,\"#fdca26\"],[1.0,\"#f0f921\"]]},\"colorway\":[\"#636efa\",\"#EF553B\",\"#00cc96\",\"#ab63fa\",\"#FFA15A\",\"#19d3f3\",\"#FF6692\",\"#B6E880\",\"#FF97FF\",\"#FECB52\"],\"font\":{\"color\":\"#2a3f5f\"},\"geo\":{\"bgcolor\":\"white\",\"lakecolor\":\"white\",\"landcolor\":\"#E5ECF6\",\"showlakes\":true,\"showland\":true,\"subunitcolor\":\"white\"},\"hoverlabel\":{\"align\":\"left\"},\"hovermode\":\"closest\",\"mapbox\":{\"style\":\"light\"},\"paper_bgcolor\":\"white\",\"plot_bgcolor\":\"#E5ECF6\",\"polar\":{\"angularaxis\":{\"gridcolor\":\"white\",\"linecolor\":\"white\",\"ticks\":\"\"},\"bgcolor\":\"#E5ECF6\",\"radialaxis\":{\"gridcolor\":\"white\",\"linecolor\":\"white\",\"ticks\":\"\"}},\"scene\":{\"xaxis\":{\"backgroundcolor\":\"#E5ECF6\",\"gridcolor\":\"white\",\"gridwidth\":2,\"linecolor\":\"white\",\"showbackground\":true,\"ticks\":\"\",\"zerolinecolor\":\"white\"},\"yaxis\":{\"backgroundcolor\":\"#E5ECF6\",\"gridcolor\":\"white\",\"gridwidth\":2,\"linecolor\":\"white\",\"showbackground\":true,\"ticks\":\"\",\"zerolinecolor\":\"white\"},\"zaxis\":{\"backgroundcolor\":\"#E5ECF6\",\"gridcolor\":\"white\",\"gridwidth\":2,\"linecolor\":\"white\",\"showbackground\":true,\"ticks\":\"\",\"zerolinecolor\":\"white\"}},\"shapedefaults\":{\"line\":{\"color\":\"#2a3f5f\"}},\"ternary\":{\"aaxis\":{\"gridcolor\":\"white\",\"linecolor\":\"white\",\"ticks\":\"\"},\"baxis\":{\"gridcolor\":\"white\",\"linecolor\":\"white\",\"ticks\":\"\"},\"bgcolor\":\"#E5ECF6\",\"caxis\":{\"gridcolor\":\"white\",\"linecolor\":\"white\",\"ticks\":\"\"}},\"title\":{\"x\":0.05},\"xaxis\":{\"automargin\":true,\"gridcolor\":\"white\",\"linecolor\":\"white\",\"ticks\":\"\",\"title\":{\"standoff\":15},\"zerolinecolor\":\"white\",\"zerolinewidth\":2},\"yaxis\":{\"automargin\":true,\"gridcolor\":\"white\",\"linecolor\":\"white\",\"ticks\":\"\",\"title\":{\"standoff\":15},\"zerolinecolor\":\"white\",\"zerolinewidth\":2}}},\"scene\":{\"camera\":{\"projection\":{\"type\":\"orthographic\"}},\"aspectmode\":\"cube\"},\"width\":800,\"height\":700,\"title\":{\"text\":\"Growth Visualization\"}},                        {\"responsive\": true}                    ).then(function(){\n",
       "                            \n",
       "var gd = document.getElementById('e386b5b4-ec13-453a-98c2-afa436f8ea30');\n",
       "var x = new MutationObserver(function (mutations, observer) {{\n",
       "        var display = window.getComputedStyle(gd).display;\n",
       "        if (!display || display === 'none') {{\n",
       "            console.log([gd, 'removed!']);\n",
       "            Plotly.purge(gd);\n",
       "            observer.disconnect();\n",
       "        }}\n",
       "}});\n",
       "\n",
       "// Listen for the removal of the full notebook cells\n",
       "var notebookContainer = gd.closest('#notebook-container');\n",
       "if (notebookContainer) {{\n",
       "    x.observe(notebookContainer, {childList: true});\n",
       "}}\n",
       "\n",
       "// Listen for the clearing of the current output cell\n",
       "var outputEl = gd.closest('.output');\n",
       "if (outputEl) {{\n",
       "    x.observe(outputEl, {childList: true});\n",
       "}}\n",
       "\n",
       "                        })                };                });            </script>        </div>"
      ]
     },
     "metadata": {},
     "output_type": "display_data"
    }
   ],
   "source": [
    "# ---------- Display ----------\n",
    "display(widgets.HBox([n_crit_slider, n_max_slider, p_slider]))\n",
    "display(widgets.HBox([active_size_slider, suppressed_size_slider, suppressed_opacity_slider]))\n",
    "display(widgets.HBox([show_active_checkbox, show_suppressed_checkbox]))\n",
    "display(widgets.HBox([step_button, reset_button, combined_button, export_button]))\n",
    "display(run_output)\n",
    "\n",
    "plot_combined(grid)"
   ]
  },
  {
   "cell_type": "code",
   "execution_count": null,
   "id": "e5088cc0",
   "metadata": {},
   "outputs": [],
   "source": []
  },
  {
   "cell_type": "code",
   "execution_count": null,
   "id": "d13edc17",
   "metadata": {},
   "outputs": [],
   "source": []
  }
 ],
 "metadata": {
  "kernelspec": {
   "display_name": "Python 3 (ipykernel)",
   "language": "python",
   "name": "python3"
  },
  "language_info": {
   "codemirror_mode": {
    "name": "ipython",
    "version": 3
   },
   "file_extension": ".py",
   "mimetype": "text/x-python",
   "name": "python",
   "nbconvert_exporter": "python",
   "pygments_lexer": "ipython3",
   "version": "3.9.12"
  }
 },
 "nbformat": 4,
 "nbformat_minor": 5
}
